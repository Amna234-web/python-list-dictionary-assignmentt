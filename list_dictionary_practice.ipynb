{
 "cells": [
  {
   "cell_type": "markdown",
   "id": "b3737849",
   "metadata": {},
   "source": [
    "# List of Cities:"
   ]
  },
  {
   "cell_type": "code",
   "execution_count": 1,
   "id": "47ba2bfd",
   "metadata": {},
   "outputs": [
    {
     "name": "stdout",
     "output_type": "stream",
     "text": [
      "['Tokyo', 'New York', 'Switzerland']\n"
     ]
    }
   ],
   "source": [
    "cities = [\"Tokyo\", \"New York\", \"Switzerland\"]\n",
    "print(cities)"
   ]
  },
  {
   "cell_type": "markdown",
   "id": "e818a704",
   "metadata": {},
   "source": [
    "# Access second city in the List:"
   ]
  },
  {
   "cell_type": "code",
   "execution_count": 2,
   "id": "facbef52",
   "metadata": {},
   "outputs": [
    {
     "name": "stdout",
     "output_type": "stream",
     "text": [
      "second city: New York\n"
     ]
    }
   ],
   "source": [
    "print(\"second city:\", cities [1])"
   ]
  },
  {
   "cell_type": "markdown",
   "id": "a82be5f2",
   "metadata": {},
   "source": [
    "# Add a new city to the List"
   ]
  },
  {
   "cell_type": "code",
   "execution_count": 3,
   "id": "1a3c90a8",
   "metadata": {},
   "outputs": [
    {
     "name": "stdout",
     "output_type": "stream",
     "text": [
      "Upated cities list: ['Tokyo', 'New York', 'Switzerland', 'Paris']\n"
     ]
    }
   ],
   "source": [
    "cities.append('Paris')\n",
    "print(\"Upated cities list:\", cities)\n"
   ]
  },
  {
   "cell_type": "markdown",
   "id": "3e75792b",
   "metadata": {},
   "source": [
    "# Dictionaries:"
   ]
  },
  {
   "cell_type": "code",
   "execution_count": 4,
   "id": "ba9f25fb",
   "metadata": {},
   "outputs": [
    {
     "name": "stdout",
     "output_type": "stream",
     "text": [
      "Person Info: {'name': 'Amina', 'age': '24', 'city': 'faisalabad'}\n"
     ]
    }
   ],
   "source": [
    "person = {\n",
    "    \"name\":\"Amina\",\n",
    "    \"age\":\"24\",\n",
    "    \"city\":\"faisalabad\",\n",
    "}\n",
    "print(\"Person Info:\",person)\n"
   ]
  },
  {
   "cell_type": "markdown",
   "id": "070f6853",
   "metadata": {},
   "source": [
    "# Access a specific value"
   ]
  },
  {
   "cell_type": "code",
   "execution_count": 8,
   "id": "59c7b1a8",
   "metadata": {},
   "outputs": [
    {
     "name": "stdout",
     "output_type": "stream",
     "text": [
      "Name: Amina\n"
     ]
    }
   ],
   "source": [
    "print(\"Name:\",person[\"name\"])"
   ]
  },
  {
   "cell_type": "markdown",
   "id": "4ac90a5e",
   "metadata": {},
   "source": [
    "# Add a new key value pair"
   ]
  },
  {
   "cell_type": "code",
   "execution_count": 10,
   "id": "e0e72a8e",
   "metadata": {},
   "outputs": [],
   "source": [
    "person [\"Profession\"]=\"Biotechnologist\""
   ]
  },
  {
   "cell_type": "markdown",
   "id": "75bc2f7e",
   "metadata": {},
   "source": [
    "# Display the updated dictionary"
   ]
  },
  {
   "cell_type": "code",
   "execution_count": 11,
   "id": "0d27cd04",
   "metadata": {},
   "outputs": [
    {
     "name": "stdout",
     "output_type": "stream",
     "text": [
      "Updated Person Info: {'name': 'Amina', 'age': '24', 'city': 'faisalabad', 'profession': 'Biotechnologist', 'Profession': 'Biotechnologist'}\n"
     ]
    }
   ],
   "source": [
    "print('Updated Person Info:',person)"
   ]
  }
 ],
 "metadata": {
  "kernelspec": {
   "display_name": "base",
   "language": "python",
   "name": "python3"
  },
  "language_info": {
   "codemirror_mode": {
    "name": "ipython",
    "version": 3
   },
   "file_extension": ".py",
   "mimetype": "text/x-python",
   "name": "python",
   "nbconvert_exporter": "python",
   "pygments_lexer": "ipython3",
   "version": "3.12.7"
  }
 },
 "nbformat": 4,
 "nbformat_minor": 5
}
